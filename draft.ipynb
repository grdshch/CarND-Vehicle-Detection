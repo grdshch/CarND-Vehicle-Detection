{
 "cells": [
  {
   "cell_type": "markdown",
   "metadata": {},
   "source": [
    "#### All imports"
   ]
  },
  {
   "cell_type": "code",
   "execution_count": null,
   "metadata": {
    "collapsed": false
   },
   "outputs": [],
   "source": [
    "import numpy as np\n",
    "import cv2\n",
    "import matplotlib.pyplot as plt\n",
    "import matplotlib.image as mpimg\n",
    "%matplotlib inline\n",
    "\n",
    "from sklearn.preprocessing import StandardScaler\n",
    "from sklearn.model_selection import train_test_split\n",
    "from sklearn.svm import LinearSVC, SVC\n",
    "from sklearn.ensemble import RandomForestClassifier\n",
    "from skimage.feature import hog\n",
    "\n",
    "from scipy.ndimage.measurements import label\n",
    "\n",
    "import glob\n",
    "import time\n",
    "\n",
    "from moviepy.editor import VideoFileClip\n",
    "from IPython.display import HTML"
   ]
  },
  {
   "cell_type": "markdown",
   "metadata": {},
   "source": [
    "#### Spatial features"
   ]
  },
  {
   "cell_type": "code",
   "execution_count": null,
   "metadata": {
    "collapsed": true
   },
   "outputs": [],
   "source": [
    "def bin_spatial(img, size=(32, 32)):\n",
    "    color1 = cv2.resize(img[:, :, 0], size).ravel()\n",
    "    color2 = cv2.resize(img[:, :, 1], size).ravel()\n",
    "    color3 = cv2.resize(img[:, :, 2], size).ravel()\n",
    "    return np.hstack((color1, color2, color3))"
   ]
  },
  {
   "cell_type": "markdown",
   "metadata": {},
   "source": [
    "#### Color histogram features"
   ]
  },
  {
   "cell_type": "code",
   "execution_count": null,
   "metadata": {
    "collapsed": true
   },
   "outputs": [],
   "source": [
    "def color_hist(img, nbins=32):\n",
    "    channel1_hist = np.histogram(img[:, :, 0], bins=nbins, range=(0, 256))\n",
    "    channel2_hist = np.histogram(img[:, :, 1], bins=nbins, range=(0, 256))\n",
    "    channel3_hist = np.histogram(img[:, :, 2], bins=nbins, range=(0, 256))\n",
    "    # Concatenate the histograms into a single feature vector\n",
    "    hist_features = np.concatenate((channel1_hist[0], channel2_hist[0], channel3_hist[0]))\n",
    "    return hist_features"
   ]
  },
  {
   "cell_type": "markdown",
   "metadata": {},
   "source": [
    "#### Hog features"
   ]
  },
  {
   "cell_type": "code",
   "execution_count": null,
   "metadata": {
    "collapsed": true
   },
   "outputs": [],
   "source": [
    "def get_hog_features(img, orient, pix_per_cell, cell_per_block, vis=False, feature_vec=True):\n",
    "    # Call with two outputs if vis==True\n",
    "    if vis == True:\n",
    "        features, hog_image = hog(img, orientations=orient, \n",
    "                                  pixels_per_cell=(pix_per_cell, pix_per_cell),\n",
    "                                  cells_per_block=(cell_per_block, cell_per_block), \n",
    "                                  transform_sqrt=True, \n",
    "                                  visualise=vis, feature_vector=feature_vec)\n",
    "        return features, hog_image\n",
    "    # Otherwise call with one output\n",
    "    else:      \n",
    "        features = hog(img, orientations=orient, \n",
    "                       pixels_per_cell=(pix_per_cell, pix_per_cell),\n",
    "                       cells_per_block=(cell_per_block, cell_per_block), \n",
    "                       transform_sqrt=True, \n",
    "                       visualise=vis, feature_vector=feature_vec)\n",
    "        return features"
   ]
  },
  {
   "cell_type": "code",
   "execution_count": null,
   "metadata": {
    "collapsed": false
   },
   "outputs": [],
   "source": [
    "plt.figure(figsize=(7, 7))\n",
    "\n",
    "car_imfile = 'vehicles/KITTI_extracted/901.png'\n",
    "img = mpimg.imread(car_imfile)\n",
    "features, hog_image = get_hog_features(img[:, :, 0], orient, pix_per_cell, cell_per_block, vis=True)\n",
    "plt.subplot(221)\n",
    "plt.imshow(img)\n",
    "plt.title('original car image')\n",
    "plt.subplot(222)\n",
    "plt.imshow(hog_image, cmap='gray')\n",
    "plt.title('car HOG')\n",
    "\n",
    "notcar_imfile = 'non-vehicles/Extras/extra89.png'\n",
    "img = mpimg.imread(notcar_imfile)\n",
    "features, hog_image = get_hog_features(img[:, :, 0], orient, pix_per_cell, cell_per_block, vis=True)\n",
    "plt.subplot(223)\n",
    "plt.imshow(img)\n",
    "plt.title('original non-car image')\n",
    "plt.subplot(224)\n",
    "plt.imshow(hog_image, cmap='gray')\n",
    "plt.title('non-car HOG')\n"
   ]
  },
  {
   "cell_type": "markdown",
   "metadata": {},
   "source": [
    "#### Extracting all features from the list of images"
   ]
  },
  {
   "cell_type": "code",
   "execution_count": null,
   "metadata": {
    "collapsed": true
   },
   "outputs": [],
   "source": [
    "def extract_features(imgs, color_convert='RGB', spatial_size=(32, 32),\n",
    "                        hist_bins=32, orient=9, \n",
    "                        pix_per_cell=8, cell_per_block=2, hog_channel=0,\n",
    "                        spatial_feat=True, hist_feat=True, hog_feat=True):\n",
    "    # Create a list to append feature vectors to\n",
    "    features = []\n",
    "    # Iterate through the list of images\n",
    "    for file in imgs:\n",
    "        file_features = []\n",
    "        # Read in each one by one\n",
    "        image = mpimg.imread(file)\n",
    "        feature_image = cv2.cvtColor(image, color_convert)\n",
    "\n",
    "        if spatial_feat == True:\n",
    "            spatial_features = bin_spatial(feature_image, size=spatial_size)\n",
    "            file_features.append(spatial_features)\n",
    "        if hist_feat == True:\n",
    "            # Apply color_hist()\n",
    "            hist_features = color_hist(feature_image, nbins=hist_bins)\n",
    "            file_features.append(hist_features)\n",
    "        if hog_feat == True:\n",
    "            # Call get_hog_features() with vis=False, feature_vec=True\n",
    "            if hog_channel == 'ALL':\n",
    "                hog_features = []\n",
    "                for channel in range(feature_image.shape[2]):\n",
    "                    hog_features.append(get_hog_features(feature_image[:,:,channel], \n",
    "                                        orient, pix_per_cell, cell_per_block, \n",
    "                                        vis=False, feature_vec=True))\n",
    "                hog_features = np.ravel(hog_features)\n",
    "            else:\n",
    "                hog_features = get_hog_features(feature_image[:,:,hog_channel], orient, \n",
    "                            pix_per_cell, cell_per_block, vis=False, feature_vec=True)\n",
    "            # Append the new feature vector to the features list\n",
    "            file_features.append(hog_features)\n",
    "        features.append(np.concatenate(file_features))\n",
    "    # Return list of feature vectors\n",
    "    return features"
   ]
  },
  {
   "cell_type": "markdown",
   "metadata": {},
   "source": [
    "#### Loading training images and extracting features"
   ]
  },
  {
   "cell_type": "code",
   "execution_count": null,
   "metadata": {
    "collapsed": false
   },
   "outputs": [],
   "source": [
    "color_space = 'YCrCb'\n",
    "color_convert = cv2.COLOR_RGB2YCrCb\n",
    "orient = 9\n",
    "pix_per_cell = 8\n",
    "cell_per_block = 2\n",
    "spatial_size = (32, 32)\n",
    "hist_bins = 32\n",
    "hog_channel = 'ALL'\n",
    "\n",
    "ystart = 400\n",
    "ystop = 680\n",
    "\n",
    "spatial_feat = True # Spatial features on or off\n",
    "hist_feat = True # Histogram features on or off\n",
    "hog_feat = True # HOG features on or off\n",
    "\n",
    "cars = glob.glob('vehicles/*/*.png')\n",
    "notcars = glob.glob('non-vehicles/*/*.png')"
   ]
  },
  {
   "cell_type": "code",
   "execution_count": null,
   "metadata": {
    "collapsed": false
   },
   "outputs": [],
   "source": [
    "car_features = extract_features(cars, color_convert, spatial_size, hist_bins, orient, pix_per_cell, \n",
    "                                cell_per_block, hog_channel, spatial_feat, hist_feat, hog_feat)\n",
    "\n",
    "notcar_features = extract_features(notcars, color_convert, spatial_size, hist_bins, orient, pix_per_cell, \n",
    "                                   cell_per_block, hog_channel, spatial_feat, hist_feat, hog_feat)\n",
    "\n",
    "X = np.vstack((car_features, notcar_features)).astype(np.float64)                        \n",
    "# Fit a per-column scaler\n",
    "X_scaler = StandardScaler().fit(X)\n",
    "# Apply the scaler to X\n",
    "scaled_X = X_scaler.transform(X)\n",
    "\n",
    "# Define the labels vector\n",
    "y = np.hstack((np.ones(len(car_features)), np.zeros(len(notcar_features))))"
   ]
  },
  {
   "cell_type": "code",
   "execution_count": null,
   "metadata": {
    "collapsed": false
   },
   "outputs": [],
   "source": [
    "car_ind = np.random.randint(0, len(cars))\n",
    "# Plot an example of raw and scaled features\n",
    "fig = plt.figure(figsize=(12,4))\n",
    "plt.subplot(131)\n",
    "plt.imshow(mpimg.imread(cars[car_ind]))\n",
    "plt.title('Original Image')\n",
    "plt.subplot(132)\n",
    "plt.plot(X[car_ind])\n",
    "plt.title('Raw Features')\n",
    "plt.subplot(133)\n",
    "plt.plot(scaled_X[car_ind])\n",
    "plt.title('Normalized Features')\n",
    "fig.tight_layout()"
   ]
  },
  {
   "cell_type": "markdown",
   "metadata": {},
   "source": [
    "#### Split on training/testing sets and train the classifier"
   ]
  },
  {
   "cell_type": "code",
   "execution_count": null,
   "metadata": {
    "collapsed": false
   },
   "outputs": [],
   "source": [
    "# Split up data into randomized training and test sets\n",
    "rand_state = np.random.randint(0, 100)\n",
    "X_train, X_test, y_train, y_test = train_test_split(\n",
    "    scaled_X, y, test_size=0.3, random_state=rand_state)\n",
    "\n",
    "print('Using:',orient,'orientations',pix_per_cell, 'pixels per cell and', cell_per_block,'cells per block')\n",
    "print('Feature vector length:', len(X_train[0]))\n",
    "\n",
    "# using linear SVC\n",
    "svc = LinearSVC()\n",
    "%time svc.fit(X_train, y_train)\n",
    "\n",
    "# Check the score of the SVC\n",
    "print('Test Accuracy of SVC = ', round(svc.score(X_test, y_test), 4))"
   ]
  },
  {
   "cell_type": "markdown",
   "metadata": {},
   "source": [
    "#### Move along HOG grid, detect cars and collect bounding boxes"
   ]
  },
  {
   "cell_type": "code",
   "execution_count": null,
   "metadata": {
    "collapsed": false
   },
   "outputs": [],
   "source": [
    "def find_cars(img, color_convert, ystart, ystop, scales, svc, X_scaler, orient, pix_per_cell, cell_per_block, spatial_size, hist_bins, debug=False):\n",
    "    \n",
    "    draw_img = np.copy(img)\n",
    "    img = img.astype(np.float32)\n",
    "    \n",
    "    img_tosearch = img[ystart:ystop,:,:]\n",
    "    ctrans_tosearch = cv2.cvtColor(img_tosearch, color_convert)\n",
    "    \n",
    "    boxes = []\n",
    "    \n",
    "    for scale in scales:\n",
    "        if scale != 1:\n",
    "            imshape = ctrans_tosearch.shape\n",
    "            ctrans_tosearch = cv2.resize(ctrans_tosearch, (np.int(imshape[1]/scale), np.int(imshape[0]/scale)))\n",
    "\n",
    "        ch1 = ctrans_tosearch[:, :, 0]\n",
    "        ch2 = ctrans_tosearch[:, :, 1]\n",
    "        ch3 = ctrans_tosearch[:, :, 2]\n",
    "\n",
    "        # Define blocks and steps as above\n",
    "        nxblocks = (ch1.shape[1] // pix_per_cell) - cell_per_block + 1\n",
    "        nyblocks = (ch1.shape[0] // pix_per_cell) - cell_per_block + 1 \n",
    "        nfeat_per_block = orient * cell_per_block ** 2\n",
    "\n",
    "        window = 64\n",
    "        nblocks_per_window = (window // pix_per_cell) - cell_per_block + 1\n",
    "        cells_per_step = 2\n",
    "        nxsteps = (nxblocks - nblocks_per_window) // cells_per_step\n",
    "        nysteps = (nyblocks - nblocks_per_window) // cells_per_step\n",
    "\n",
    "        # Compute individual channel HOG features for the entire image\n",
    "        hog1 = get_hog_features(ch1, orient, pix_per_cell, cell_per_block, feature_vec=False)\n",
    "        hog2 = get_hog_features(ch2, orient, pix_per_cell, cell_per_block, feature_vec=False)\n",
    "        hog3 = get_hog_features(ch3, orient, pix_per_cell, cell_per_block, feature_vec=False)\n",
    "\n",
    "        for xb in range(nxsteps):\n",
    "            for yb in range(nysteps):\n",
    "                ypos = yb * cells_per_step\n",
    "                xpos = xb * cells_per_step\n",
    "                # Extract HOG for this patch\n",
    "                hog_feat1 = hog1[ypos:ypos+nblocks_per_window, xpos:xpos+nblocks_per_window].ravel() \n",
    "                hog_feat2 = hog2[ypos:ypos+nblocks_per_window, xpos:xpos+nblocks_per_window].ravel() \n",
    "                hog_feat3 = hog3[ypos:ypos+nblocks_per_window, xpos:xpos+nblocks_per_window].ravel() \n",
    "                hog_features = np.hstack((hog_feat1, hog_feat2, hog_feat3))\n",
    "\n",
    "                xleft = xpos * pix_per_cell\n",
    "                ytop = ypos * pix_per_cell\n",
    "\n",
    "                # Extract the image patch\n",
    "                subimg = cv2.resize(ctrans_tosearch[ytop: ytop + window, xleft: xleft + window], (64, 64))\n",
    "\n",
    "                # Get color features\n",
    "                spatial_features = bin_spatial(subimg, size=spatial_size)\n",
    "                hist_features = color_hist(subimg, nbins=hist_bins)\n",
    "\n",
    "                # Scale features and make a prediction\n",
    "                test_features = X_scaler.transform(np.hstack((spatial_features, hist_features, hog_features)).reshape(1, -1))    \n",
    "                #test_features = X_scaler.transform(np.hstack((shape_feat, hist_feat)).reshape(1, -1))    \n",
    "                test_prediction = svc.predict(test_features)\n",
    "\n",
    "                if test_prediction == 1 or debug:\n",
    "                    xbox_left = np.int(xleft * scale)\n",
    "                    ytop_draw = np.int(ytop * scale)\n",
    "                    win_draw = np.int(window * scale)\n",
    "                    boxes.append(((xbox_left, ytop_draw + ystart), (xbox_left + win_draw, ytop_draw + win_draw + ystart)))\n",
    "    return boxes"
   ]
  },
  {
   "cell_type": "markdown",
   "metadata": {},
   "source": [
    "#### Find cars and draw all bounding boxes"
   ]
  },
  {
   "cell_type": "code",
   "execution_count": null,
   "metadata": {
    "collapsed": true
   },
   "outputs": [],
   "source": [
    "def process_image(image, scale=(1.5,), video=True, debug=False):\n",
    "\n",
    "    image = image.astype(np.float32) / 255\n",
    "    boxes = find_cars(image, color_convert, ystart, ystop, scale, svc, X_scaler, orient, pix_per_cell, cell_per_block, spatial_size, hist_bins, debug)\n",
    "    out_img = image.copy()\n",
    "    for box in boxes:\n",
    "        cv2.rectangle(out_img, (box[0][0], box[0][1]), (box[1][0], box[1][1]), (0, 0, 1), 4) \n",
    "    \n",
    "    # need to multiply back for creating video\n",
    "    if video:\n",
    "        out_img *= 255\n",
    "    return out_img"
   ]
  },
  {
   "cell_type": "code",
   "execution_count": null,
   "metadata": {
    "collapsed": false
   },
   "outputs": [],
   "source": [
    "mpimg.imread('test_images/test1.jpg')\n",
    "\n",
    "# draw the entire HOG grid\n",
    "out_img = process_image(image, video=False, debug=True)\n",
    "plt.figure(figsize=(8, 5))\n",
    "plt.imshow(out_img)"
   ]
  },
  {
   "cell_type": "markdown",
   "metadata": {},
   "source": [
    "#### Draw found boxes for all test images"
   ]
  },
  {
   "cell_type": "code",
   "execution_count": null,
   "metadata": {
    "collapsed": false
   },
   "outputs": [],
   "source": [
    "images = glob.glob('test_images/*.jpg')\n",
    "plt.figure(figsize=(12, 12))\n",
    "for i in range(len(images)):\n",
    "    image = mpimg.imread(images[i])\n",
    "    out_img = process_image(image, video=False)\n",
    "    plt.subplot(len(images) // 2, 2, i + 1)\n",
    "    plt.imshow(out_img)"
   ]
  },
  {
   "cell_type": "markdown",
   "metadata": {},
   "source": [
    "#### Create heatmap for a frame"
   ]
  },
  {
   "cell_type": "code",
   "execution_count": null,
   "metadata": {
    "collapsed": true
   },
   "outputs": [],
   "source": [
    "def create_heatmap(img, bbox_list):\n",
    "    heatmap = np.zeros_like(img[:,:,0]).astype(np.float)\n",
    "    # Iterate through list of bboxes\n",
    "    for box in bbox_list:\n",
    "        # Add += 1 for all pixels inside each bbox\n",
    "        heatmap[box[0][1]: box[1][1], box[0][0]: box[1][0]] += 1\n",
    "    return heatmap\n",
    "\n",
    "def apply_threshold(heatmap, threshold):\n",
    "    # Zero out pixels below the threshold\n",
    "    heatmap[heatmap <= threshold] = 0\n",
    "    # Return thresholded map\n",
    "    return heatmap\n",
    "\n",
    "def draw_labeled_bboxes(img, labels):\n",
    "    # Iterate through all detected cars\n",
    "    for car_number in range(1, labels[1]+1):\n",
    "        # Find pixels with each car_number label value\n",
    "        nonzero = (labels[0] == car_number).nonzero()\n",
    "        # Identify x and y values of those pixels\n",
    "        nonzeroy = np.array(nonzero[0])\n",
    "        nonzerox = np.array(nonzero[1])\n",
    "        # Define a bounding box based on min/max x and y\n",
    "        bbox = ((np.min(nonzerox), np.min(nonzeroy)), (np.max(nonzerox), np.max(nonzeroy)))\n",
    "        # Draw the box on the image\n",
    "        cv2.rectangle(img, bbox[0], bbox[1], (0, 0, 1), 6)\n",
    "    # Return the image\n",
    "    return img"
   ]
  },
  {
   "cell_type": "code",
   "execution_count": null,
   "metadata": {
    "collapsed": false
   },
   "outputs": [],
   "source": [
    "images = glob.glob('test_images/*.jpg')[2:5]\n",
    "plt.figure(figsize=(15, 12))\n",
    "for i in range(len(images)):\n",
    "    image = mpimg.imread(images[i])\n",
    "    image = image.astype(np.float32) / 255\n",
    "    boxes = find_cars(image, color_convert,  ystart, ystop, (1.5,),\n",
    "                      svc, X_scaler,\n",
    "                      orient, pix_per_cell, cell_per_block,\n",
    "                      spatial_size, hist_bins)\n",
    "    out_img = image.copy()\n",
    "    for box in boxes:\n",
    "        cv2.rectangle(out_img, (box[0][0], box[0][1]), (box[1][0], box[1][1]), (0, 0, 1), 4) \n",
    "    \n",
    "    heat = create_heatmap(out_img, boxes)\n",
    "    heat = apply_threshold(heat, 1)\n",
    "    heatmap = np.clip(heat, 0, 255)\n",
    "    \n",
    "    labels = label(heatmap)\n",
    "    draw_img = draw_labeled_bboxes(np.copy(image), labels)\n",
    "    plt.subplot(len(images), 3, 3 * i + 1)\n",
    "    plt.imshow(out_img)\n",
    "    plt.title('bboxes')\n",
    "    plt.subplot(len(images), 3, 3 * i + 2)\n",
    "    plt.imshow(heatmap, cmap='hot')\n",
    "    plt.title('heatmap')\n",
    "    plt.subplot(len(images), 3, 3 * i + 3)\n",
    "    plt.title('labeled')\n",
    "    plt.imshow(draw_img)"
   ]
  },
  {
   "cell_type": "markdown",
   "metadata": {},
   "source": [
    "#### Final pipeline"
   ]
  },
  {
   "cell_type": "code",
   "execution_count": null,
   "metadata": {
    "collapsed": true
   },
   "outputs": [],
   "source": [
    "def process(image, scale=(1.25,), video=True, frames_to_heat=7, threshold=5):\n",
    "    global heats  # keep heatmaps for several frames\n",
    "    image = image.astype(np.float32) / 255\n",
    "    boxes = find_cars(image, color_convert,  ystart, ystop, scale,\n",
    "                      svc, X_scaler,\n",
    "                      orient, pix_per_cell, cell_per_block,\n",
    "                      spatial_size, hist_bins)\n",
    "    out_img = image.copy()\n",
    "    \n",
    "    # Add heat to each box in box list\n",
    "    heat = create_heatmap(out_img, boxes)\n",
    "    \n",
    "    heats.append(heat)\n",
    "    if len(heats) > frames_to_heat:\n",
    "        heats = heats[len(heats) - frames_to_heat:]\n",
    "    \n",
    "    # Apply threshold to help remove false positives\n",
    "    heat = apply_threshold(np.sum(heats, axis=0), threshold)\n",
    "    \n",
    "    # Visualize the heatmap when displaying    \n",
    "    heatmap = np.clip(heat, 0, 255)\n",
    "    \n",
    "    # Find final boxes from heatmap using label function\n",
    "    labels = label(heatmap)\n",
    "    draw_img = draw_labeled_bboxes(np.copy(image), labels)\n",
    "    \n",
    "    if video:\n",
    "        draw_img *= 255\n",
    "    return draw_img"
   ]
  },
  {
   "cell_type": "markdown",
   "metadata": {},
   "source": [
    "#### Process video"
   ]
  },
  {
   "cell_type": "code",
   "execution_count": null,
   "metadata": {
    "collapsed": false
   },
   "outputs": [],
   "source": [
    "heats = []\n",
    "output = 'project_video_result.mp4'\n",
    "orig_clip = VideoFileClip('project_video.mp4').subclip(5, 15)\n",
    "result = orig_clip.fl_image(process)\n",
    "%time result.write_videofile(output, audio=False)"
   ]
  },
  {
   "cell_type": "code",
   "execution_count": null,
   "metadata": {
    "collapsed": false
   },
   "outputs": [],
   "source": [
    "HTML(\"\"\"\n",
    "<video width=\"960\" height=\"540\" controls>\n",
    "  <source src=\"{0}\">\n",
    "</video>\n",
    "\"\"\".format(output))"
   ]
  },
  {
   "cell_type": "code",
   "execution_count": null,
   "metadata": {
    "collapsed": true
   },
   "outputs": [],
   "source": []
  },
  {
   "cell_type": "code",
   "execution_count": null,
   "metadata": {
    "collapsed": true
   },
   "outputs": [],
   "source": []
  }
 ],
 "metadata": {
  "kernelspec": {
   "display_name": "Python 3",
   "language": "python",
   "name": "python3"
  },
  "language_info": {
   "codemirror_mode": {
    "name": "ipython",
    "version": 3
   },
   "file_extension": ".py",
   "mimetype": "text/x-python",
   "name": "python",
   "nbconvert_exporter": "python",
   "pygments_lexer": "ipython3",
   "version": "3.6.1"
  }
 },
 "nbformat": 4,
 "nbformat_minor": 2
}
